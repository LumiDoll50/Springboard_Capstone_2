{
 "cells": [
  {
   "cell_type": "markdown",
   "id": "d71ce461",
   "metadata": {},
   "source": [
    "# Capstone 2: Erasmus Program Mobility \n",
    "\n",
    "## Preprocessing and Training Data Development\n",
    "\n",
    "## Table of Contents\n",
    "* [Feature Engineering](#feature_engineering) \n",
    "    *  [Country-year aggregations](#country_year)\n",
    "    *  [Trends over time](#trends_time)\n",
    "    *  [Target variable creation](#target_variable)\n",
    "    \n",
    "* [Feature Transformation](#feature_transformation) \n",
    "    *  [Feature selection](#feature_selection)\n",
    "    *  [One-hot encoding](#one_hot) \n",
    "\n",
    "* [Train-Test Split](#train_test_split)\n",
    "\n",
    "* [Summary](#summary)"
   ]
  },
  {
   "cell_type": "code",
   "execution_count": 1,
   "id": "466e105a",
   "metadata": {},
   "outputs": [],
   "source": [
    "import os\n",
    "import pandas as pd\n",
    "import numpy as np\n",
    "import matplotlib.pyplot as plt\n",
    "import seaborn as sns\n",
    "from datetime import datetime\n",
    "from calendar import month_name\n",
    "from sklearn.preprocessing import OneHotEncoder\n",
    "from sklearn.model_selection import train_test_split"
   ]
  },
  {
   "cell_type": "code",
   "execution_count": 2,
   "id": "6e191f31",
   "metadata": {},
   "outputs": [],
   "source": [
    "# Load the projects dataset\n",
    "erasmus = pd.read_csv('C:/Users/midol/Documents/Springboard/Springboard/Capstone_2/Erasmus/erasmus_eda.csv')"
   ]
  },
  {
   "cell_type": "code",
   "execution_count": 3,
   "id": "36bfacd5",
   "metadata": {
    "scrolled": false
   },
   "outputs": [
    {
     "data": {
      "text/html": [
       "<div>\n",
       "<style scoped>\n",
       "    .dataframe tbody tr th:only-of-type {\n",
       "        vertical-align: middle;\n",
       "    }\n",
       "\n",
       "    .dataframe tbody tr th {\n",
       "        vertical-align: top;\n",
       "    }\n",
       "\n",
       "    .dataframe thead th {\n",
       "        text-align: right;\n",
       "    }\n",
       "</style>\n",
       "<table border=\"1\" class=\"dataframe\">\n",
       "  <thead>\n",
       "    <tr style=\"text-align: right;\">\n",
       "      <th></th>\n",
       "      <th>participant_id</th>\n",
       "      <th>project_id</th>\n",
       "      <th>academic_year</th>\n",
       "      <th>start_month</th>\n",
       "      <th>end_month</th>\n",
       "      <th>duration_in_days</th>\n",
       "      <th>activity</th>\n",
       "      <th>field_of_education</th>\n",
       "      <th>participant_nationality</th>\n",
       "      <th>education_level</th>\n",
       "      <th>...</th>\n",
       "      <th>end_month_dt</th>\n",
       "      <th>start_year_month</th>\n",
       "      <th>end_year_month</th>\n",
       "      <th>start_year</th>\n",
       "      <th>end_year</th>\n",
       "      <th>start_month_num</th>\n",
       "      <th>end_month_num</th>\n",
       "      <th>start_month_name</th>\n",
       "      <th>end_month_name</th>\n",
       "      <th>age_group</th>\n",
       "    </tr>\n",
       "  </thead>\n",
       "  <tbody>\n",
       "    <tr>\n",
       "      <th>0</th>\n",
       "      <td>1</td>\n",
       "      <td>2014-1-MT01-KA104-000103</td>\n",
       "      <td>2014-2015</td>\n",
       "      <td>2014-05</td>\n",
       "      <td>2014-06</td>\n",
       "      <td>42</td>\n",
       "      <td>Staff training abroad</td>\n",
       "      <td>Architecture and construction</td>\n",
       "      <td>MT</td>\n",
       "      <td>ISCED-6 - First cycle / Bachelor’s or equivale...</td>\n",
       "      <td>...</td>\n",
       "      <td>2014-06-01</td>\n",
       "      <td>2014-05</td>\n",
       "      <td>2014-06</td>\n",
       "      <td>2014</td>\n",
       "      <td>2014</td>\n",
       "      <td>5</td>\n",
       "      <td>6</td>\n",
       "      <td>May</td>\n",
       "      <td>June</td>\n",
       "      <td>30-39</td>\n",
       "    </tr>\n",
       "    <tr>\n",
       "      <th>1</th>\n",
       "      <td>2</td>\n",
       "      <td>2014-1-AT01-KA102-000262</td>\n",
       "      <td>2014-2015</td>\n",
       "      <td>2014-06</td>\n",
       "      <td>2014-06</td>\n",
       "      <td>13</td>\n",
       "      <td>Training/teaching assignments abroad</td>\n",
       "      <td>Business and administration</td>\n",
       "      <td>AT</td>\n",
       "      <td>ISCED-7 - Second cycle / Master’s or equivalen...</td>\n",
       "      <td>...</td>\n",
       "      <td>2014-06-01</td>\n",
       "      <td>2014-06</td>\n",
       "      <td>2014-06</td>\n",
       "      <td>2014</td>\n",
       "      <td>2014</td>\n",
       "      <td>6</td>\n",
       "      <td>6</td>\n",
       "      <td>June</td>\n",
       "      <td>June</td>\n",
       "      <td>50-59</td>\n",
       "    </tr>\n",
       "    <tr>\n",
       "      <th>2</th>\n",
       "      <td>3</td>\n",
       "      <td>2014-1-AT01-KA102-000262</td>\n",
       "      <td>2014-2015</td>\n",
       "      <td>2014-06</td>\n",
       "      <td>2014-06</td>\n",
       "      <td>15</td>\n",
       "      <td>VET learners traineeships in vocational instit...</td>\n",
       "      <td>Business and administration</td>\n",
       "      <td>AT</td>\n",
       "      <td>ISCED-5 - Short-cycle within the first cycle /...</td>\n",
       "      <td>...</td>\n",
       "      <td>2014-06-01</td>\n",
       "      <td>2014-06</td>\n",
       "      <td>2014-06</td>\n",
       "      <td>2014</td>\n",
       "      <td>2014</td>\n",
       "      <td>6</td>\n",
       "      <td>6</td>\n",
       "      <td>June</td>\n",
       "      <td>June</td>\n",
       "      <td>NaN</td>\n",
       "    </tr>\n",
       "    <tr>\n",
       "      <th>3</th>\n",
       "      <td>4</td>\n",
       "      <td>2014-1-AT01-KA102-000262</td>\n",
       "      <td>2014-2015</td>\n",
       "      <td>2014-06</td>\n",
       "      <td>2014-06</td>\n",
       "      <td>15</td>\n",
       "      <td>VET learners traineeships in vocational instit...</td>\n",
       "      <td>Business and administration</td>\n",
       "      <td>AT</td>\n",
       "      <td>ISCED-5 - Short-cycle within the first cycle /...</td>\n",
       "      <td>...</td>\n",
       "      <td>2014-06-01</td>\n",
       "      <td>2014-06</td>\n",
       "      <td>2014-06</td>\n",
       "      <td>2014</td>\n",
       "      <td>2014</td>\n",
       "      <td>6</td>\n",
       "      <td>6</td>\n",
       "      <td>June</td>\n",
       "      <td>June</td>\n",
       "      <td>NaN</td>\n",
       "    </tr>\n",
       "    <tr>\n",
       "      <th>4</th>\n",
       "      <td>5</td>\n",
       "      <td>2014-1-AT01-KA102-000262</td>\n",
       "      <td>2014-2015</td>\n",
       "      <td>2014-06</td>\n",
       "      <td>2014-06</td>\n",
       "      <td>15</td>\n",
       "      <td>VET learners traineeships in vocational instit...</td>\n",
       "      <td>Business and administration</td>\n",
       "      <td>AT</td>\n",
       "      <td>ISCED-7 - Second cycle / Master’s or equivalen...</td>\n",
       "      <td>...</td>\n",
       "      <td>2014-06-01</td>\n",
       "      <td>2014-06</td>\n",
       "      <td>2014-06</td>\n",
       "      <td>2014</td>\n",
       "      <td>2014</td>\n",
       "      <td>6</td>\n",
       "      <td>6</td>\n",
       "      <td>June</td>\n",
       "      <td>June</td>\n",
       "      <td>NaN</td>\n",
       "    </tr>\n",
       "  </tbody>\n",
       "</table>\n",
       "<p>5 rows × 39 columns</p>\n",
       "</div>"
      ],
      "text/plain": [
       "   participant_id                project_id academic_year start_month  \\\n",
       "0               1  2014-1-MT01-KA104-000103     2014-2015     2014-05   \n",
       "1               2  2014-1-AT01-KA102-000262     2014-2015     2014-06   \n",
       "2               3  2014-1-AT01-KA102-000262     2014-2015     2014-06   \n",
       "3               4  2014-1-AT01-KA102-000262     2014-2015     2014-06   \n",
       "4               5  2014-1-AT01-KA102-000262     2014-2015     2014-06   \n",
       "\n",
       "  end_month  duration_in_days  \\\n",
       "0   2014-06                42   \n",
       "1   2014-06                13   \n",
       "2   2014-06                15   \n",
       "3   2014-06                15   \n",
       "4   2014-06                15   \n",
       "\n",
       "                                            activity  \\\n",
       "0                              Staff training abroad   \n",
       "1               Training/teaching assignments abroad   \n",
       "2  VET learners traineeships in vocational instit...   \n",
       "3  VET learners traineeships in vocational instit...   \n",
       "4  VET learners traineeships in vocational instit...   \n",
       "\n",
       "              field_of_education participant_nationality  \\\n",
       "0  Architecture and construction                      MT   \n",
       "1    Business and administration                      AT   \n",
       "2    Business and administration                      AT   \n",
       "3    Business and administration                      AT   \n",
       "4    Business and administration                      AT   \n",
       "\n",
       "                                     education_level  ... end_month_dt  \\\n",
       "0  ISCED-6 - First cycle / Bachelor’s or equivale...  ...   2014-06-01   \n",
       "1  ISCED-7 - Second cycle / Master’s or equivalen...  ...   2014-06-01   \n",
       "2  ISCED-5 - Short-cycle within the first cycle /...  ...   2014-06-01   \n",
       "3  ISCED-5 - Short-cycle within the first cycle /...  ...   2014-06-01   \n",
       "4  ISCED-7 - Second cycle / Master’s or equivalen...  ...   2014-06-01   \n",
       "\n",
       "  start_year_month  end_year_month  start_year  end_year  start_month_num  \\\n",
       "0          2014-05         2014-06        2014      2014                5   \n",
       "1          2014-06         2014-06        2014      2014                6   \n",
       "2          2014-06         2014-06        2014      2014                6   \n",
       "3          2014-06         2014-06        2014      2014                6   \n",
       "4          2014-06         2014-06        2014      2014                6   \n",
       "\n",
       "  end_month_num start_month_name end_month_name age_group  \n",
       "0             6              May           June     30-39  \n",
       "1             6             June           June     50-59  \n",
       "2             6             June           June       NaN  \n",
       "3             6             June           June       NaN  \n",
       "4             6             June           June       NaN  \n",
       "\n",
       "[5 rows x 39 columns]"
      ]
     },
     "execution_count": 3,
     "metadata": {},
     "output_type": "execute_result"
    }
   ],
   "source": [
    "erasmus.head()"
   ]
  },
  {
   "cell_type": "code",
   "execution_count": 4,
   "id": "53dc3141",
   "metadata": {},
   "outputs": [
    {
     "data": {
      "text/plain": [
       "Index(['participant_id', 'project_id', 'academic_year', 'start_month',\n",
       "       'end_month', 'duration_in_days', 'activity', 'field_of_education',\n",
       "       'participant_nationality', 'education_level', 'participant_gender',\n",
       "       'participant_role', 'special_needs', 'fewer_opportunities',\n",
       "       'groupleader', 'participant_age', 'sending_country', 'sending_city',\n",
       "       'receiving_country', 'receiving_city', '# of participants',\n",
       "       'key_action', 'action_type', 'call_year', 'grant_in_euros',\n",
       "       'country_type', 'country_pairs', 'allocated_grant', 'start_month_dt',\n",
       "       'end_month_dt', 'start_year_month', 'end_year_month', 'start_year',\n",
       "       'end_year', 'start_month_num', 'end_month_num', 'start_month_name',\n",
       "       'end_month_name', 'age_group'],\n",
       "      dtype='object')"
      ]
     },
     "execution_count": 4,
     "metadata": {},
     "output_type": "execute_result"
    }
   ],
   "source": [
    "erasmus.columns"
   ]
  },
  {
   "cell_type": "markdown",
   "id": "16651857",
   "metadata": {},
   "source": [
    "## Feature Engineering <a id=\"feature_engineering\"></a>\n",
    "\n",
    "### Country-year aggregations <a id=\"country_year\"></a>\n",
    "\n",
    "To consider the temporal aspect of the data, we aggregate the data for country-year granularity. "
   ]
  },
  {
   "cell_type": "code",
   "execution_count": 5,
   "id": "dd8e4ff4",
   "metadata": {},
   "outputs": [],
   "source": [
    "# Aggregate data to country-year level\n",
    "df_agg = erasmus.groupby(['receiving_country', 'call_year']).agg({\n",
    "       'allocated_grant': 'sum',\n",
    "       'participant_id': 'nunique',  # Number of unique participants\n",
    "       'duration_in_days': 'mean',\n",
    "       '# of participants': 'mean'\n",
    "   }).reset_index()"
   ]
  },
  {
   "cell_type": "code",
   "execution_count": 6,
   "id": "81407c15",
   "metadata": {},
   "outputs": [
    {
     "data": {
      "text/html": [
       "<div>\n",
       "<style scoped>\n",
       "    .dataframe tbody tr th:only-of-type {\n",
       "        vertical-align: middle;\n",
       "    }\n",
       "\n",
       "    .dataframe tbody tr th {\n",
       "        vertical-align: top;\n",
       "    }\n",
       "\n",
       "    .dataframe thead th {\n",
       "        text-align: right;\n",
       "    }\n",
       "</style>\n",
       "<table border=\"1\" class=\"dataframe\">\n",
       "  <thead>\n",
       "    <tr style=\"text-align: right;\">\n",
       "      <th></th>\n",
       "      <th>receiving_country</th>\n",
       "      <th>call_year</th>\n",
       "      <th>allocated_grant</th>\n",
       "      <th>participant_id</th>\n",
       "      <th>duration_in_days</th>\n",
       "      <th># of participants</th>\n",
       "    </tr>\n",
       "  </thead>\n",
       "  <tbody>\n",
       "    <tr>\n",
       "      <th>0</th>\n",
       "      <td>AF</td>\n",
       "      <td>2015</td>\n",
       "      <td>5871.111111</td>\n",
       "      <td>2</td>\n",
       "      <td>5.000000</td>\n",
       "      <td>1.000000</td>\n",
       "    </tr>\n",
       "    <tr>\n",
       "      <th>1</th>\n",
       "      <td>AF</td>\n",
       "      <td>2016</td>\n",
       "      <td>19353.300000</td>\n",
       "      <td>6</td>\n",
       "      <td>7.333333</td>\n",
       "      <td>1.500000</td>\n",
       "    </tr>\n",
       "    <tr>\n",
       "      <th>2</th>\n",
       "      <td>AF</td>\n",
       "      <td>2017</td>\n",
       "      <td>5058.695652</td>\n",
       "      <td>2</td>\n",
       "      <td>5.000000</td>\n",
       "      <td>1.000000</td>\n",
       "    </tr>\n",
       "    <tr>\n",
       "      <th>3</th>\n",
       "      <td>AL</td>\n",
       "      <td>2014</td>\n",
       "      <td>274999.537457</td>\n",
       "      <td>294</td>\n",
       "      <td>24.006803</td>\n",
       "      <td>1.221088</td>\n",
       "    </tr>\n",
       "    <tr>\n",
       "      <th>4</th>\n",
       "      <td>AL</td>\n",
       "      <td>2015</td>\n",
       "      <td>817178.602912</td>\n",
       "      <td>388</td>\n",
       "      <td>28.492268</td>\n",
       "      <td>1.082474</td>\n",
       "    </tr>\n",
       "  </tbody>\n",
       "</table>\n",
       "</div>"
      ],
      "text/plain": [
       "  receiving_country  call_year  allocated_grant  participant_id  \\\n",
       "0                AF       2015      5871.111111               2   \n",
       "1                AF       2016     19353.300000               6   \n",
       "2                AF       2017      5058.695652               2   \n",
       "3                AL       2014    274999.537457             294   \n",
       "4                AL       2015    817178.602912             388   \n",
       "\n",
       "   duration_in_days  # of participants  \n",
       "0          5.000000           1.000000  \n",
       "1          7.333333           1.500000  \n",
       "2          5.000000           1.000000  \n",
       "3         24.006803           1.221088  \n",
       "4         28.492268           1.082474  "
      ]
     },
     "execution_count": 6,
     "metadata": {},
     "output_type": "execute_result"
    }
   ],
   "source": [
    "df_agg.head()"
   ]
  },
  {
   "cell_type": "markdown",
   "id": "73f0e466",
   "metadata": {},
   "source": [
    "### Trends over time <a id=\"trends_time\"></a>\n",
    "\n",
    "We also create features that capture trends over time.\n",
    "- **Lag Feature**: These are values from previous years.\n",
    "- **Rolling Statistics**: These could help capture trends and smooth out yearly fluctuations."
   ]
  },
  {
   "cell_type": "code",
   "execution_count": 7,
   "id": "bbd1fa94",
   "metadata": {},
   "outputs": [],
   "source": [
    "# Add lag feature\n",
    "df_agg['previous_year_allocated_grant'] = erasmus.groupby('receiving_country')['allocated_grant'].shift(1)"
   ]
  },
  {
   "cell_type": "code",
   "execution_count": 8,
   "id": "7e2b6ced",
   "metadata": {},
   "outputs": [],
   "source": [
    "# Add rolling statistics feature - for funding\n",
    "df_agg['rolling_avg_grant_3yr'] = erasmus.groupby('receiving_country')['allocated_grant'].rolling(3).mean().shift(1).reset_index(0,drop=True)\n",
    "\n",
    "# Add rolling statistics feature - for project count\n",
    "# Count the occurrences of project_id per year for each receiving_country\n",
    "counts_per_year = erasmus.groupby(['receiving_country', 'call_year']).size().reset_index(name='project_count')\n",
    "\n",
    "# Compute the rolling average on the yearly counts\n",
    "df_agg['rolling_avg_projects_3yr'] = counts_per_year.groupby('receiving_country')['project_count'].rolling(3).mean().shift(1).reset_index(0, drop=True)\n"
   ]
  },
  {
   "cell_type": "markdown",
   "id": "f557e3dd",
   "metadata": {},
   "source": [
    "### Target variable creation <a id=\"target_variable\"></a>\n",
    "\n",
    "Because we want to predict multi-year future allocations, we create a more suitable target variable than simply `allocated_grant`. To do this, we extend the target variable to cover predictions for multiple future years. The `cumulative_future_allocations` variable will now be our target feature."
   ]
  },
  {
   "cell_type": "code",
   "execution_count": 9,
   "id": "5c2e333f",
   "metadata": {},
   "outputs": [],
   "source": [
    "df_agg['cumulative_future_allocations'] = erasmus.groupby('receiving_country')['allocated_grant'].transform(lambda x: x.shift(-1).fillna(0) + x.shift(-2).fillna(0) + x.shift(-3).fillna(0))"
   ]
  },
  {
   "cell_type": "code",
   "execution_count": 10,
   "id": "e3ef4253",
   "metadata": {},
   "outputs": [
    {
     "data": {
      "text/html": [
       "<div>\n",
       "<style scoped>\n",
       "    .dataframe tbody tr th:only-of-type {\n",
       "        vertical-align: middle;\n",
       "    }\n",
       "\n",
       "    .dataframe tbody tr th {\n",
       "        vertical-align: top;\n",
       "    }\n",
       "\n",
       "    .dataframe thead th {\n",
       "        text-align: right;\n",
       "    }\n",
       "</style>\n",
       "<table border=\"1\" class=\"dataframe\">\n",
       "  <thead>\n",
       "    <tr style=\"text-align: right;\">\n",
       "      <th></th>\n",
       "      <th>receiving_country</th>\n",
       "      <th>call_year</th>\n",
       "      <th>allocated_grant</th>\n",
       "      <th>participant_id</th>\n",
       "      <th>duration_in_days</th>\n",
       "      <th># of participants</th>\n",
       "      <th>previous_year_allocated_grant</th>\n",
       "      <th>rolling_avg_grant_3yr</th>\n",
       "      <th>rolling_avg_projects_3yr</th>\n",
       "      <th>cumulative_future_allocations</th>\n",
       "    </tr>\n",
       "  </thead>\n",
       "  <tbody>\n",
       "    <tr>\n",
       "      <th>0</th>\n",
       "      <td>AF</td>\n",
       "      <td>2015</td>\n",
       "      <td>5871.111111</td>\n",
       "      <td>2</td>\n",
       "      <td>5.000000</td>\n",
       "      <td>1.000000</td>\n",
       "      <td>NaN</td>\n",
       "      <td>5087.821545</td>\n",
       "      <td>NaN</td>\n",
       "      <td>1383.333333</td>\n",
       "    </tr>\n",
       "    <tr>\n",
       "      <th>1</th>\n",
       "      <td>AF</td>\n",
       "      <td>2016</td>\n",
       "      <td>19353.300000</td>\n",
       "      <td>6</td>\n",
       "      <td>7.333333</td>\n",
       "      <td>1.500000</td>\n",
       "      <td>NaN</td>\n",
       "      <td>6371.258065</td>\n",
       "      <td>NaN</td>\n",
       "      <td>8703.000000</td>\n",
       "    </tr>\n",
       "    <tr>\n",
       "      <th>2</th>\n",
       "      <td>AF</td>\n",
       "      <td>2017</td>\n",
       "      <td>5058.695652</td>\n",
       "      <td>2</td>\n",
       "      <td>5.000000</td>\n",
       "      <td>1.000000</td>\n",
       "      <td>2901.0</td>\n",
       "      <td>NaN</td>\n",
       "      <td>NaN</td>\n",
       "      <td>7602.333333</td>\n",
       "    </tr>\n",
       "    <tr>\n",
       "      <th>3</th>\n",
       "      <td>AL</td>\n",
       "      <td>2014</td>\n",
       "      <td>274999.537457</td>\n",
       "      <td>294</td>\n",
       "      <td>24.006803</td>\n",
       "      <td>1.221088</td>\n",
       "      <td>2901.0</td>\n",
       "      <td>NaN</td>\n",
       "      <td>3.333333</td>\n",
       "      <td>6431.261905</td>\n",
       "    </tr>\n",
       "    <tr>\n",
       "      <th>4</th>\n",
       "      <td>AL</td>\n",
       "      <td>2015</td>\n",
       "      <td>817178.602912</td>\n",
       "      <td>388</td>\n",
       "      <td>28.492268</td>\n",
       "      <td>1.082474</td>\n",
       "      <td>2901.0</td>\n",
       "      <td>2901.000000</td>\n",
       "      <td>NaN</td>\n",
       "      <td>5260.190476</td>\n",
       "    </tr>\n",
       "  </tbody>\n",
       "</table>\n",
       "</div>"
      ],
      "text/plain": [
       "  receiving_country  call_year  allocated_grant  participant_id  \\\n",
       "0                AF       2015      5871.111111               2   \n",
       "1                AF       2016     19353.300000               6   \n",
       "2                AF       2017      5058.695652               2   \n",
       "3                AL       2014    274999.537457             294   \n",
       "4                AL       2015    817178.602912             388   \n",
       "\n",
       "   duration_in_days  # of participants  previous_year_allocated_grant  \\\n",
       "0          5.000000           1.000000                            NaN   \n",
       "1          7.333333           1.500000                            NaN   \n",
       "2          5.000000           1.000000                         2901.0   \n",
       "3         24.006803           1.221088                         2901.0   \n",
       "4         28.492268           1.082474                         2901.0   \n",
       "\n",
       "   rolling_avg_grant_3yr  rolling_avg_projects_3yr  \\\n",
       "0            5087.821545                       NaN   \n",
       "1            6371.258065                       NaN   \n",
       "2                    NaN                       NaN   \n",
       "3                    NaN                  3.333333   \n",
       "4            2901.000000                       NaN   \n",
       "\n",
       "   cumulative_future_allocations  \n",
       "0                    1383.333333  \n",
       "1                    8703.000000  \n",
       "2                    7602.333333  \n",
       "3                    6431.261905  \n",
       "4                    5260.190476  "
      ]
     },
     "execution_count": 10,
     "metadata": {},
     "output_type": "execute_result"
    }
   ],
   "source": [
    "df_agg.head()"
   ]
  },
  {
   "cell_type": "markdown",
   "id": "c2c752b1",
   "metadata": {},
   "source": [
    "We handle any missing values that may have been introduced by the shift operations."
   ]
  },
  {
   "cell_type": "code",
   "execution_count": 11,
   "id": "c11209cb",
   "metadata": {},
   "outputs": [],
   "source": [
    "df_agg.fillna(0, inplace=True)"
   ]
  },
  {
   "cell_type": "code",
   "execution_count": 12,
   "id": "6a689c3a",
   "metadata": {},
   "outputs": [
    {
     "data": {
      "text/plain": [
       "(685, 10)"
      ]
     },
     "execution_count": 12,
     "metadata": {},
     "output_type": "execute_result"
    }
   ],
   "source": [
    "df_agg.shape"
   ]
  },
  {
   "cell_type": "markdown",
   "id": "e3a815ae",
   "metadata": {},
   "source": [
    "We add these new features to our original dataframe."
   ]
  },
  {
   "cell_type": "code",
   "execution_count": 13,
   "id": "405da8d8",
   "metadata": {},
   "outputs": [],
   "source": [
    "df_merged = erasmus.merge(df_agg, on=['receiving_country', 'call_year'], how='left', suffixes=('', '_agg'))"
   ]
  },
  {
   "cell_type": "code",
   "execution_count": 14,
   "id": "41778ef7",
   "metadata": {},
   "outputs": [
    {
     "data": {
      "text/plain": [
       "(3462074, 47)"
      ]
     },
     "execution_count": 14,
     "metadata": {},
     "output_type": "execute_result"
    }
   ],
   "source": [
    "df_merged.shape"
   ]
  },
  {
   "cell_type": "code",
   "execution_count": 15,
   "id": "3e29d258",
   "metadata": {},
   "outputs": [
    {
     "data": {
      "text/plain": [
       "Index(['participant_id', 'project_id', 'academic_year', 'start_month',\n",
       "       'end_month', 'duration_in_days', 'activity', 'field_of_education',\n",
       "       'participant_nationality', 'education_level', 'participant_gender',\n",
       "       'participant_role', 'special_needs', 'fewer_opportunities',\n",
       "       'groupleader', 'participant_age', 'sending_country', 'sending_city',\n",
       "       'receiving_country', 'receiving_city', '# of participants',\n",
       "       'key_action', 'action_type', 'call_year', 'grant_in_euros',\n",
       "       'country_type', 'country_pairs', 'allocated_grant', 'start_month_dt',\n",
       "       'end_month_dt', 'start_year_month', 'end_year_month', 'start_year',\n",
       "       'end_year', 'start_month_num', 'end_month_num', 'start_month_name',\n",
       "       'end_month_name', 'age_group', 'allocated_grant_agg',\n",
       "       'participant_id_agg', 'duration_in_days_agg', '# of participants_agg',\n",
       "       'previous_year_allocated_grant', 'rolling_avg_grant_3yr',\n",
       "       'rolling_avg_projects_3yr', 'cumulative_future_allocations'],\n",
       "      dtype='object')"
      ]
     },
     "execution_count": 15,
     "metadata": {},
     "output_type": "execute_result"
    }
   ],
   "source": [
    "df_merged.columns"
   ]
  },
  {
   "cell_type": "markdown",
   "id": "aaf31500",
   "metadata": {},
   "source": [
    "## Feature Transformation <a id=\"feature_transformation\"></a>\n",
    "\n",
    "### Feature selection <a id=\"feature_selection\"></a>\n",
    "\n",
    "Now we create a new DataFrame containing only those features to be used in our modelling."
   ]
  },
  {
   "cell_type": "code",
   "execution_count": 16,
   "id": "45e921aa",
   "metadata": {},
   "outputs": [
    {
     "data": {
      "text/plain": [
       "(3462074, 30)"
      ]
     },
     "execution_count": 16,
     "metadata": {},
     "output_type": "execute_result"
    }
   ],
   "source": [
    "# List of columns to include in the final DataFrame\n",
    "columns_to_include = [\n",
    "    'participant_nationality', 'participant_gender', 'participant_age',\n",
    "    'participant_role', 'special_needs', 'fewer_opportunities', 'groupleader', \n",
    "    'age_group', 'academic_year', 'call_year', 'start_year_month', 'end_year_month',\n",
    "    'start_year', 'end_year', 'duration_in_days', 'activity', 'field_of_education',\n",
    "    'sending_country', 'receiving_country', 'country_type', \n",
    "    'allocated_grant', 'allocated_grant_agg', 'previous_year_allocated_grant', 'rolling_avg_grant_3yr', 'rolling_avg_projects_3yr',\n",
    "    'cumulative_future_allocations', '# of participants', '# of participants_agg', 'participant_id_agg', \n",
    "    'duration_in_days_agg']\n",
    "\n",
    "# Create the final DataFrame with the selected columns\n",
    "df_merged = df_merged[columns_to_include]\n",
    "df_merged.shape"
   ]
  },
  {
   "cell_type": "markdown",
   "id": "5c8bf988",
   "metadata": {},
   "source": [
    "### One-hot encoding <a id=\"one_hot\"></a>\n",
    "\n",
    "We encode the categorical variables into numerical format using one-hot encoding.\n",
    "Due to memory limitations, this list was minimized."
   ]
  },
  {
   "cell_type": "code",
   "execution_count": 17,
   "id": "d7f3f219",
   "metadata": {},
   "outputs": [],
   "source": [
    "# Perform one-hot encoding on selected columns\n",
    "columns_to_encode = ['participant_gender', 'participant_age',\n",
    "    'participant_role', 'special_needs', 'fewer_opportunities', 'groupleader', \n",
    "    'age_group', 'academic_year', 'call_year', 'activity', 'receiving_country']\n",
    "df_final = pd.get_dummies(df_merged, columns=columns_to_encode)\n"
   ]
  },
  {
   "cell_type": "code",
   "execution_count": 18,
   "id": "bd5ecf10",
   "metadata": {},
   "outputs": [
    {
     "data": {
      "text/plain": [
       "Index(['participant_nationality', 'start_year_month', 'end_year_month',\n",
       "       'start_year', 'end_year', 'duration_in_days', 'field_of_education',\n",
       "       'sending_country', 'country_type', 'allocated_grant',\n",
       "       ...\n",
       "       'receiving_country_UK', 'receiving_country_US', 'receiving_country_UY',\n",
       "       'receiving_country_UZ', 'receiving_country_VE', 'receiving_country_VN',\n",
       "       'receiving_country_XK', 'receiving_country_ZA', 'receiving_country_ZM',\n",
       "       'receiving_country_ZW'],\n",
       "      dtype='object', length=330)"
      ]
     },
     "execution_count": 18,
     "metadata": {},
     "output_type": "execute_result"
    }
   ],
   "source": [
    "df_final.columns"
   ]
  },
  {
   "cell_type": "code",
   "execution_count": 19,
   "id": "9b8509ef",
   "metadata": {},
   "outputs": [
    {
     "name": "stdout",
     "output_type": "stream",
     "text": [
      "<class 'pandas.core.frame.DataFrame'>\n",
      "RangeIndex: 3462074 entries, 0 to 3462073\n",
      "Columns: 330 entries, participant_nationality to receiving_country_ZW\n",
      "dtypes: bool(311), float64(10), int64(3), object(6)\n",
      "memory usage: 1.5+ GB\n"
     ]
    }
   ],
   "source": [
    "df_final.info()"
   ]
  },
  {
   "cell_type": "markdown",
   "id": "c5797f54",
   "metadata": {},
   "source": [
    "Since we don't intend to use learning models that rely on distance-based metrics, we will not scale the numeric data."
   ]
  },
  {
   "cell_type": "markdown",
   "id": "f2317896",
   "metadata": {},
   "source": [
    "## Train-Test Split <a id=\"train_test_split\"></a>\n",
    "\n",
    "Split the data into training and testing sets."
   ]
  },
  {
   "cell_type": "code",
   "execution_count": 20,
   "id": "41b876ad",
   "metadata": {},
   "outputs": [],
   "source": [
    "X = df_final.drop(columns=['cumulative_future_allocations'])\n",
    "y = df_final['cumulative_future_allocations']\n",
    "X_train, X_test, y_train, y_test = train_test_split(X, y, test_size=0.2, random_state=42)\n"
   ]
  },
  {
   "cell_type": "code",
   "execution_count": 21,
   "id": "0d33942f",
   "metadata": {},
   "outputs": [],
   "source": [
    "df_final.to_csv('C:/Users/midol/Documents/Springboard/Springboard/Capstone_2/Erasmus/erasmus_preprocess.csv', index=False)"
   ]
  },
  {
   "cell_type": "markdown",
   "id": "0a7c4347",
   "metadata": {},
   "source": [
    "## Summary <a id=\"summary\"></a>\n",
    "\n",
    "Original Problem Statement: Based on past funding from 2014 to 2019, analyze previous patterns and factors to identify trends and predict which countries are most likely to receive future allocations.\n",
    "\n",
    "To prepare for modeling, we did some feature engineering. We created several country-year aggregations by summing funding, counting participants, and calculating the mean project duration in days and number of participants.\n",
    "\n",
    "We also created features that would capture trends over time such as a lag feature for country-funding. To smooth out yearly fluctuations, rolling statistics were also created for funding mean and project counts, and a 3-year rolling average for project counts. Because we want to predict multi-year future allocations, we created a more suitable target variable that extends over multiple future years: `cumulative_future_allocations`.\n",
    "\n",
    "We chose the features that would be included in the modeling and hot-encoded the categorical variables into numerical format.\n",
    "\n",
    "Finally, we split our data into training and testing sets.\n"
   ]
  },
  {
   "cell_type": "markdown",
   "id": "ce2e9bf3",
   "metadata": {},
   "source": [
    "**For further exploration:**\n",
    "\n",
    "Consider integrating more features such as:\n",
    "- Economic indicators\n",
    "- Political stability\n",
    "- Project success rates"
   ]
  },
  {
   "cell_type": "code",
   "execution_count": null,
   "id": "f46868c5",
   "metadata": {},
   "outputs": [],
   "source": []
  }
 ],
 "metadata": {
  "kernelspec": {
   "display_name": "Python 3 (ipykernel)",
   "language": "python",
   "name": "python3"
  },
  "language_info": {
   "codemirror_mode": {
    "name": "ipython",
    "version": 3
   },
   "file_extension": ".py",
   "mimetype": "text/x-python",
   "name": "python",
   "nbconvert_exporter": "python",
   "pygments_lexer": "ipython3",
   "version": "3.11.5"
  }
 },
 "nbformat": 4,
 "nbformat_minor": 5
}
